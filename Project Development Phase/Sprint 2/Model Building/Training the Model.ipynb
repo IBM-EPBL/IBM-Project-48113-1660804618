{
 "cells": [
  {
   "cell_type": "markdown",
   "metadata": {},
   "source": [
    "### Importing libraries"
   ]
  },
  {
   "cell_type": "code",
   "execution_count": 1,
   "metadata": {},
   "outputs": [],
   "source": [
    "import numpy as np\n",
    "import tensorflow as tf\n",
    "from tensorflow.keras.models import Sequential \n",
    "from tensorflow.keras.layers import Dense,Flatten, Dropout\n",
    "from tensorflow.keras.layers import Convolution2D,MaxPooling2D \n",
    "from tensorflow.keras.preprocessing.image import ImageDataGenerator"
   ]
  },
  {
   "cell_type": "markdown",
   "metadata": {},
   "source": [
    "### Augmenting the data "
   ]
  },
  {
   "cell_type": "code",
   "execution_count": 2,
   "metadata": {},
   "outputs": [],
   "source": [
    "train_datagen = ImageDataGenerator(rescale=1./255,\n",
    "                                   shear_range=0.2,\n",
    "                                   zoom_range=0.2,\n",
    "                                   horizontal_flip=True)\n",
    "test_datagen=ImageDataGenerator(rescale=1./255)"
   ]
  },
  {
   "cell_type": "markdown",
   "metadata": {},
   "source": [
    "### Loading our data and performing data agumentation"
   ]
  },
  {
   "cell_type": "code",
   "execution_count": 3,
   "metadata": {},
   "outputs": [
    {
     "name": "stdout",
     "output_type": "stream",
     "text": [
      "Found 594 images belonging to 6 classes.\n",
      "Found 30 images belonging to 6 classes.\n"
     ]
    }
   ],
   "source": [
    "x_train = train_datagen.flow_from_directory(r'C:\\Users\\Asus\\Desktop\\Harish\\Nalaiya thiran Project\\train',\n",
    "                                            target_size=(64, 64),\n",
    "                                            batch_size=3,\n",
    "                                            color_mode='grayscale',\n",
    "                                            class_mode='categorical')\n",
    "x_test = test_datagen.flow_from_directory(r'C:\\Users\\Asus\\Desktop\\Harish\\Nalaiya thiran Project\\test',\n",
    "                                          target_size=(64, 64),\n",
    "                                          batch_size=3,\n",
    "                                          color_mode='grayscale',\n",
    "                                          class_mode='categorical') "
   ]
  },
  {
   "cell_type": "code",
   "execution_count": 4,
   "metadata": {},
   "outputs": [
    {
     "name": "stdout",
     "output_type": "stream",
     "text": [
      "{'0': 0, '1': 1, '2': 2, '3': 3, '4': 4, '5': 5}\n"
     ]
    }
   ],
   "source": [
    "print(x_train.class_indices)"
   ]
  },
  {
   "cell_type": "markdown",
   "metadata": {},
   "source": [
    "### Model Creation"
   ]
  },
  {
   "cell_type": "code",
   "execution_count": 5,
   "metadata": {},
   "outputs": [],
   "source": [
    "# Initializing the CNN\n",
    "model = Sequential()\n",
    "# First convolution layer and pooling\n",
    "model.add(Convolution2D(32, (3, 3), input_shape=(64, 64, 1), activation='relu'))\n",
    "model.add(MaxPooling2D(pool_size=(2, 2)))\n",
    "# Second convolution layer and pooling\n",
    "model.add(Convolution2D(32, (3, 3), activation='relu'))\n",
    "# input_shape is going to be the pooled feature maps from the previous convolution layer\n",
    "model.add(MaxPooling2D(pool_size=(2,2)))\n",
    "# Flattening the layers i.e. input layer\n",
    "model.add(Flatten())\n",
    "# Adding a fully connected layer, i.e. Hidden Layer\n",
    "model.add(Dense(units=512 , activation='relu'))\n",
    "# softmax for categorical analysis, Output Layer\n",
    "model.add(Dense(units=6, activation='softmax')) "
   ]
  },
  {
   "cell_type": "code",
   "execution_count": 6,
   "metadata": {},
   "outputs": [
    {
     "name": "stdout",
     "output_type": "stream",
     "text": [
      "Model: \"sequential\"\n",
      "_________________________________________________________________\n",
      " Layer (type)                Output Shape              Param #   \n",
      "=================================================================\n",
      " conv2d (Conv2D)             (None, 62, 62, 32)        320       \n",
      "                                                                 \n",
      " max_pooling2d (MaxPooling2D  (None, 31, 31, 32)       0         \n",
      " )                                                               \n",
      "                                                                 \n",
      " conv2d_1 (Conv2D)           (None, 29, 29, 32)        9248      \n",
      "                                                                 \n",
      " max_pooling2d_1 (MaxPooling  (None, 14, 14, 32)       0         \n",
      " 2D)                                                             \n",
      "                                                                 \n",
      " flatten (Flatten)           (None, 6272)              0         \n",
      "                                                                 \n",
      " dense (Dense)               (None, 512)               3211776   \n",
      "                                                                 \n",
      " dense_1 (Dense)             (None, 6)                 3078      \n",
      "                                                                 \n",
      "=================================================================\n",
      "Total params: 3,224,422\n",
      "Trainable params: 3,224,422\n",
      "Non-trainable params: 0\n",
      "_________________________________________________________________\n"
     ]
    }
   ],
   "source": [
    "model.summary()"
   ]
  },
  {
   "cell_type": "markdown",
   "metadata": {},
   "source": [
    "### Model Compilation"
   ]
  },
  {
   "cell_type": "code",
   "execution_count": 7,
   "metadata": {},
   "outputs": [],
   "source": [
    "model.compile(optimizer='adam', loss='categorical_crossentropy', metrics=['accuracy']) "
   ]
  },
  {
   "cell_type": "markdown",
   "metadata": {},
   "source": [
    "## Model fitting"
   ]
  },
  {
   "cell_type": "code",
   "execution_count": 8,
   "metadata": {},
   "outputs": [
    {
     "name": "stderr",
     "output_type": "stream",
     "text": [
      "C:\\Users\\Asus\\AppData\\Local\\Temp\\ipykernel_10136\\2710932396.py:1: UserWarning: `Model.fit_generator` is deprecated and will be removed in a future version. Please use `Model.fit`, which supports generators.\n",
      "  model.fit_generator(x_train,\n"
     ]
    },
    {
     "name": "stdout",
     "output_type": "stream",
     "text": [
      "Epoch 1/50\n",
      "99/99 [==============================] - 13s 98ms/step - loss: 1.5955 - accuracy: 0.3805 - val_loss: 0.7374 - val_accuracy: 0.8000\n",
      "Epoch 2/50\n",
      "99/99 [==============================] - 6s 57ms/step - loss: 0.9438 - accuracy: 0.6566 - val_loss: 0.9276 - val_accuracy: 0.7333\n",
      "Epoch 3/50\n",
      "99/99 [==============================] - 5s 52ms/step - loss: 0.6433 - accuracy: 0.7273 - val_loss: 0.8331 - val_accuracy: 0.4667\n",
      "Epoch 4/50\n",
      "99/99 [==============================] - 5s 45ms/step - loss: 0.5485 - accuracy: 0.7778 - val_loss: 0.4873 - val_accuracy: 0.8000\n",
      "Epoch 5/50\n",
      "99/99 [==============================] - 5s 54ms/step - loss: 0.4316 - accuracy: 0.8485 - val_loss: 0.1804 - val_accuracy: 0.9333\n",
      "Epoch 6/50\n",
      "99/99 [==============================] - 6s 56ms/step - loss: 0.3367 - accuracy: 0.8620 - val_loss: 0.5377 - val_accuracy: 0.8667\n",
      "Epoch 7/50\n",
      "99/99 [==============================] - 5s 52ms/step - loss: 0.2269 - accuracy: 0.9125 - val_loss: 0.4176 - val_accuracy: 0.9333\n",
      "Epoch 8/50\n",
      "99/99 [==============================] - 6s 58ms/step - loss: 0.2474 - accuracy: 0.9158 - val_loss: 0.1857 - val_accuracy: 0.9333\n",
      "Epoch 9/50\n",
      "99/99 [==============================] - 5s 55ms/step - loss: 0.1616 - accuracy: 0.9394 - val_loss: 0.0224 - val_accuracy: 1.0000\n",
      "Epoch 10/50\n",
      "99/99 [==============================] - 5s 45ms/step - loss: 0.1666 - accuracy: 0.9360 - val_loss: 0.0471 - val_accuracy: 1.0000\n",
      "Epoch 11/50\n",
      "99/99 [==============================] - 5s 46ms/step - loss: 0.1829 - accuracy: 0.9259 - val_loss: 0.5482 - val_accuracy: 0.8667\n",
      "Epoch 12/50\n",
      "99/99 [==============================] - 5s 51ms/step - loss: 0.1644 - accuracy: 0.9428 - val_loss: 0.0151 - val_accuracy: 1.0000\n",
      "Epoch 13/50\n",
      "99/99 [==============================] - 5s 47ms/step - loss: 0.0943 - accuracy: 0.9731 - val_loss: 0.0617 - val_accuracy: 1.0000\n",
      "Epoch 14/50\n",
      "99/99 [==============================] - 5s 46ms/step - loss: 0.1592 - accuracy: 0.9562 - val_loss: 0.5420 - val_accuracy: 0.8667\n",
      "Epoch 15/50\n",
      "99/99 [==============================] - 5s 50ms/step - loss: 0.0730 - accuracy: 0.9697 - val_loss: 0.0098 - val_accuracy: 1.0000\n",
      "Epoch 16/50\n",
      "99/99 [==============================] - 5s 52ms/step - loss: 0.1593 - accuracy: 0.9495 - val_loss: 0.0245 - val_accuracy: 1.0000\n",
      "Epoch 17/50\n",
      "99/99 [==============================] - 5s 48ms/step - loss: 0.0826 - accuracy: 0.9731 - val_loss: 0.0379 - val_accuracy: 1.0000\n",
      "Epoch 18/50\n",
      "99/99 [==============================] - 5s 46ms/step - loss: 0.0578 - accuracy: 0.9764 - val_loss: 0.2032 - val_accuracy: 0.9333\n",
      "Epoch 19/50\n",
      "99/99 [==============================] - 5s 52ms/step - loss: 0.2012 - accuracy: 0.9394 - val_loss: 0.0101 - val_accuracy: 1.0000\n",
      "Epoch 20/50\n",
      "99/99 [==============================] - 5s 45ms/step - loss: 0.0824 - accuracy: 0.9832 - val_loss: 0.7688 - val_accuracy: 0.8667\n",
      "Epoch 21/50\n",
      "99/99 [==============================] - 5s 46ms/step - loss: 0.0841 - accuracy: 0.9764 - val_loss: 0.0073 - val_accuracy: 1.0000\n",
      "Epoch 22/50\n",
      "99/99 [==============================] - 5s 48ms/step - loss: 0.0965 - accuracy: 0.9697 - val_loss: 0.4377 - val_accuracy: 0.9333\n",
      "Epoch 23/50\n",
      "99/99 [==============================] - 5s 45ms/step - loss: 0.0815 - accuracy: 0.9731 - val_loss: 0.5099 - val_accuracy: 0.8667\n",
      "Epoch 24/50\n",
      "99/99 [==============================] - 4s 44ms/step - loss: 0.0586 - accuracy: 0.9832 - val_loss: 0.0230 - val_accuracy: 1.0000\n",
      "Epoch 25/50\n",
      "99/99 [==============================] - 5s 47ms/step - loss: 0.0515 - accuracy: 0.9764 - val_loss: 0.0224 - val_accuracy: 1.0000\n",
      "Epoch 26/50\n",
      "99/99 [==============================] - 5s 49ms/step - loss: 0.0671 - accuracy: 0.9731 - val_loss: 0.8789 - val_accuracy: 0.8000\n",
      "Epoch 27/50\n",
      "99/99 [==============================] - 5s 53ms/step - loss: 0.0945 - accuracy: 0.9663 - val_loss: 0.1273 - val_accuracy: 0.9333\n",
      "Epoch 28/50\n",
      "99/99 [==============================] - 5s 51ms/step - loss: 0.0506 - accuracy: 0.9798 - val_loss: 0.6866 - val_accuracy: 0.9333\n",
      "Epoch 29/50\n",
      "99/99 [==============================] - 5s 54ms/step - loss: 0.0293 - accuracy: 0.9865 - val_loss: 0.0011 - val_accuracy: 1.0000\n",
      "Epoch 30/50\n",
      "99/99 [==============================] - 5s 55ms/step - loss: 0.0391 - accuracy: 0.9865 - val_loss: 0.0033 - val_accuracy: 1.0000\n",
      "Epoch 31/50\n",
      "99/99 [==============================] - 6s 56ms/step - loss: 0.0647 - accuracy: 0.9798 - val_loss: 0.3557 - val_accuracy: 0.8000\n",
      "Epoch 32/50\n",
      "99/99 [==============================] - 5s 51ms/step - loss: 0.0948 - accuracy: 0.9663 - val_loss: 0.0590 - val_accuracy: 1.0000\n",
      "Epoch 33/50\n",
      "99/99 [==============================] - 5s 53ms/step - loss: 0.0265 - accuracy: 0.9966 - val_loss: 0.0031 - val_accuracy: 1.0000\n",
      "Epoch 34/50\n",
      "99/99 [==============================] - 6s 57ms/step - loss: 0.0364 - accuracy: 0.9865 - val_loss: 0.5858 - val_accuracy: 0.9333\n",
      "Epoch 35/50\n",
      "99/99 [==============================] - 6s 62ms/step - loss: 0.0493 - accuracy: 0.9663 - val_loss: 0.0508 - val_accuracy: 0.9333\n",
      "Epoch 36/50\n",
      "99/99 [==============================] - 5s 54ms/step - loss: 0.0490 - accuracy: 0.9798 - val_loss: 0.0288 - val_accuracy: 1.0000\n",
      "Epoch 37/50\n",
      "99/99 [==============================] - 5s 54ms/step - loss: 0.0488 - accuracy: 0.9798 - val_loss: 0.6303 - val_accuracy: 0.9333\n",
      "Epoch 38/50\n",
      "99/99 [==============================] - 5s 53ms/step - loss: 0.0341 - accuracy: 0.9933 - val_loss: 0.8285 - val_accuracy: 0.8667\n",
      "Epoch 39/50\n",
      "99/99 [==============================] - 5s 52ms/step - loss: 0.0685 - accuracy: 0.9798 - val_loss: 0.3780 - val_accuracy: 0.9333\n",
      "Epoch 40/50\n",
      "99/99 [==============================] - 5s 50ms/step - loss: 0.0421 - accuracy: 0.9764 - val_loss: 0.1527 - val_accuracy: 0.9333\n",
      "Epoch 41/50\n",
      "99/99 [==============================] - 5s 51ms/step - loss: 0.1017 - accuracy: 0.9697 - val_loss: 0.4576 - val_accuracy: 0.8667\n",
      "Epoch 42/50\n",
      "99/99 [==============================] - 4s 45ms/step - loss: 0.0933 - accuracy: 0.9596 - val_loss: 0.4686 - val_accuracy: 0.9333\n",
      "Epoch 43/50\n",
      "99/99 [==============================] - 5s 47ms/step - loss: 0.0244 - accuracy: 0.9966 - val_loss: 0.1330 - val_accuracy: 0.9333\n",
      "Epoch 44/50\n",
      "99/99 [==============================] - 5s 52ms/step - loss: 0.0138 - accuracy: 0.9966 - val_loss: 0.1862 - val_accuracy: 0.9333\n",
      "Epoch 45/50\n",
      "99/99 [==============================] - 5s 49ms/step - loss: 0.0330 - accuracy: 0.9899 - val_loss: 0.0476 - val_accuracy: 1.0000\n",
      "Epoch 46/50\n",
      "99/99 [==============================] - 5s 48ms/step - loss: 0.0033 - accuracy: 1.0000 - val_loss: 2.9467e-04 - val_accuracy: 1.0000\n",
      "Epoch 47/50\n",
      "99/99 [==============================] - 5s 48ms/step - loss: 0.0138 - accuracy: 0.9933 - val_loss: 0.0079 - val_accuracy: 1.0000\n",
      "Epoch 48/50\n",
      "99/99 [==============================] - 5s 53ms/step - loss: 0.0012 - accuracy: 1.0000 - val_loss: 0.5792 - val_accuracy: 0.9333\n",
      "Epoch 49/50\n",
      "99/99 [==============================] - 5s 54ms/step - loss: 0.0022 - accuracy: 1.0000 - val_loss: 4.2598e-04 - val_accuracy: 1.0000\n",
      "Epoch 50/50\n",
      "99/99 [==============================] - 5s 54ms/step - loss: 0.0025 - accuracy: 1.0000 - val_loss: 0.5488 - val_accuracy: 0.9333\n"
     ]
    },
    {
     "data": {
      "text/plain": [
       "<keras.callbacks.History at 0x18ca9132ee0>"
      ]
     },
     "execution_count": 8,
     "metadata": {},
     "output_type": "execute_result"
    }
   ],
   "source": [
    "model.fit_generator(x_train,\n",
    "                    steps_per_epoch = 594/6 , \n",
    "                    epochs = 50, \n",
    "                    validation_data = x_test,\n",
    "                    validation_steps = 30/6 )"
   ]
  },
  {
   "cell_type": "markdown",
   "metadata": {},
   "source": [
    "### Saving model"
   ]
  },
  {
   "cell_type": "code",
   "execution_count": 9,
   "metadata": {},
   "outputs": [],
   "source": [
    "model.save('model.h5')"
   ]
  },
  {
   "cell_type": "code",
   "execution_count": 10,
   "metadata": {},
   "outputs": [],
   "source": [
    "model_json = model.to_json()\n",
    "with open(\"model-bw.json\", \"w\") as json_file:\n",
    "    json_file.write(model_json)"
   ]
  },
  {
   "cell_type": "code",
   "execution_count": null,
   "metadata": {},
   "outputs": [],
   "source": []
  },
  {
   "cell_type": "code",
   "execution_count": null,
   "metadata": {},
   "outputs": [],
   "source": []
  },
  {
   "cell_type": "code",
   "execution_count": null,
   "metadata": {},
   "outputs": [],
   "source": []
  },
  {
   "cell_type": "code",
   "execution_count": null,
   "metadata": {},
   "outputs": [],
   "source": []
  }
 ],
 "metadata": {
  "kernelspec": {
   "display_name": "Python 3 (ipykernel)",
   "language": "python",
   "name": "python3"
  },
  "language_info": {
   "codemirror_mode": {
    "name": "ipython",
    "version": 3
   },
   "file_extension": ".py",
   "mimetype": "text/x-python",
   "name": "python",
   "nbconvert_exporter": "python",
   "pygments_lexer": "ipython3",
   "version": "3.9.7"
  }
 },
 "nbformat": 4,
 "nbformat_minor": 4
}
